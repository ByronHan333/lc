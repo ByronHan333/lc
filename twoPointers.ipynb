{
 "cells": [
  {
   "cell_type": "code",
   "execution_count": 1,
   "id": "f7538169-eaa3-4b9d-ae7e-39051ed6ba0e",
   "metadata": {},
   "outputs": [],
   "source": [
    "from typing import List\n"
   ]
  },
  {
   "cell_type": "markdown",
   "id": "5a4e109d-563d-41db-9d0c-3cf6a5ed3b9e",
   "metadata": {},
   "source": [
    "## 125"
   ]
  },
  {
   "cell_type": "code",
   "execution_count": 26,
   "id": "e354173b-8b42-4371-94c5-74ab1740cd54",
   "metadata": {},
   "outputs": [],
   "source": [
    "import re\n",
    "class Solution:\n",
    "    def isPalindrome(self, s: str) -> bool:\n",
    "        s = re.sub(r\"[^a-zA-Z0-9]\", '', s)\n",
    "        print(s)\n",
    "        s = s.lower()\n",
    "        for i in range(len(s)//2):\n",
    "            if s[i] != s[(len(s)-1-i)]:\n",
    "                return False\n",
    "        return True"
   ]
  },
  {
   "cell_type": "code",
   "execution_count": 27,
   "id": "363eb17d-fe4c-4516-acf7-5950089759e4",
   "metadata": {},
   "outputs": [
    {
     "name": "stdout",
     "output_type": "stream",
     "text": [
      "aba\n"
     ]
    },
    {
     "data": {
      "text/plain": [
       "True"
      ]
     },
     "execution_count": 27,
     "metadata": {},
     "output_type": "execute_result"
    }
   ],
   "source": [
    "s = \"ab_a\"\n",
    "Solution().isPalindrome(s)"
   ]
  },
  {
   "cell_type": "code",
   "execution_count": 16,
   "id": "6cf228fe-97ce-4dd7-b82e-0aadd35b1b8b",
   "metadata": {},
   "outputs": [
    {
     "data": {
      "text/plain": [
       "True"
      ]
     },
     "execution_count": 16,
     "metadata": {},
     "output_type": "execute_result"
    }
   ],
   "source": [
    "s = \"A man, a plan, a canal: Panama\"\n",
    "Solution().isPalindrome(s)"
   ]
  },
  {
   "cell_type": "code",
   "execution_count": 17,
   "id": "e16d075a-f136-4f6e-a84b-9dc987e7d725",
   "metadata": {},
   "outputs": [
    {
     "data": {
      "text/plain": [
       "False"
      ]
     },
     "execution_count": 17,
     "metadata": {},
     "output_type": "execute_result"
    }
   ],
   "source": [
    "s = \"race a car\"\n",
    "Solution().isPalindrome(s)"
   ]
  },
  {
   "cell_type": "code",
   "execution_count": 18,
   "id": "89b69a3a-9e54-45d4-99e1-bac73284bfa8",
   "metadata": {},
   "outputs": [
    {
     "data": {
      "text/plain": [
       "True"
      ]
     },
     "execution_count": 18,
     "metadata": {},
     "output_type": "execute_result"
    }
   ],
   "source": [
    "s = \" \"\n",
    "Solution().isPalindrome(s)"
   ]
  },
  {
   "cell_type": "markdown",
   "id": "7f4f1326-4f9a-45ce-a052-e9630e2f1553",
   "metadata": {},
   "source": [
    "## 167"
   ]
  },
  {
   "cell_type": "code",
   "execution_count": 28,
   "id": "f4847e0c-b723-4a3d-b953-087ecd0ba63f",
   "metadata": {},
   "outputs": [],
   "source": [
    "class Solution:\n",
    "    def twoSum(self, numbers: List[int], target: int) -> List[int]:\n",
    "        return"
   ]
  },
  {
   "cell_type": "code",
   "execution_count": 29,
   "id": "066b0b71-667b-4557-84e8-8e45f204b163",
   "metadata": {},
   "outputs": [],
   "source": [
    "numbers = [2,7,11,15]\n",
    "target = 9\n",
    "Solution().twoSum(numbers, target)"
   ]
  },
  {
   "cell_type": "code",
   "execution_count": 30,
   "id": "828edd74-fc97-46c2-853c-914b82857ed2",
   "metadata": {},
   "outputs": [],
   "source": [
    "numbers = [2,3,4]\n",
    "target = 6\n",
    "Solution().twoSum(numbers, target)"
   ]
  },
  {
   "cell_type": "code",
   "execution_count": 31,
   "id": "552b5d1a-38aa-466b-a2e7-7e24d3f5a40b",
   "metadata": {},
   "outputs": [],
   "source": [
    "numbers = [-1,0]\n",
    "target = -1\n",
    "Solution().twoSum(numbers, target)"
   ]
  },
  {
   "cell_type": "code",
   "execution_count": null,
   "id": "25511809-e544-44b3-a5b7-482033010757",
   "metadata": {},
   "outputs": [],
   "source": []
  }
 ],
 "metadata": {
  "kernelspec": {
   "display_name": "Python 3 (ipykernel)",
   "language": "python",
   "name": "python3"
  },
  "language_info": {
   "codemirror_mode": {
    "name": "ipython",
    "version": 3
   },
   "file_extension": ".py",
   "mimetype": "text/x-python",
   "name": "python",
   "nbconvert_exporter": "python",
   "pygments_lexer": "ipython3",
   "version": "3.9.12"
  }
 },
 "nbformat": 4,
 "nbformat_minor": 5
}
