{
 "cells": [
  {
   "cell_type": "code",
   "execution_count": 1,
   "id": "f7538169-eaa3-4b9d-ae7e-39051ed6ba0e",
   "metadata": {},
   "outputs": [],
   "source": [
    "from typing import List\n"
   ]
  },
  {
   "cell_type": "markdown",
   "id": "5a4e109d-563d-41db-9d0c-3cf6a5ed3b9e",
   "metadata": {},
   "source": [
    "## 125"
   ]
  },
  {
   "cell_type": "code",
   "execution_count": 26,
   "id": "e354173b-8b42-4371-94c5-74ab1740cd54",
   "metadata": {},
   "outputs": [],
   "source": [
    "import re\n",
    "class Solution:\n",
    "    def isPalindrome(self, s: str) -> bool:\n",
    "        s = re.sub(r\"[^a-zA-Z0-9]\", '', s)\n",
    "        print(s)\n",
    "        s = s.lower()\n",
    "        for i in range(len(s)//2):\n",
    "            if s[i] != s[(len(s)-1-i)]:\n",
    "                return False\n",
    "        return True"
   ]
  },
  {
   "cell_type": "code",
   "execution_count": 27,
   "id": "363eb17d-fe4c-4516-acf7-5950089759e4",
   "metadata": {},
   "outputs": [
    {
     "name": "stdout",
     "output_type": "stream",
     "text": [
      "aba\n"
     ]
    },
    {
     "data": {
      "text/plain": [
       "True"
      ]
     },
     "execution_count": 27,
     "metadata": {},
     "output_type": "execute_result"
    }
   ],
   "source": [
    "s = \"ab_a\"\n",
    "Solution().isPalindrome(s)"
   ]
  },
  {
   "cell_type": "code",
   "execution_count": 16,
   "id": "6cf228fe-97ce-4dd7-b82e-0aadd35b1b8b",
   "metadata": {},
   "outputs": [
    {
     "data": {
      "text/plain": [
       "True"
      ]
     },
     "execution_count": 16,
     "metadata": {},
     "output_type": "execute_result"
    }
   ],
   "source": [
    "s = \"A man, a plan, a canal: Panama\"\n",
    "Solution().isPalindrome(s)"
   ]
  },
  {
   "cell_type": "code",
   "execution_count": 17,
   "id": "e16d075a-f136-4f6e-a84b-9dc987e7d725",
   "metadata": {},
   "outputs": [
    {
     "data": {
      "text/plain": [
       "False"
      ]
     },
     "execution_count": 17,
     "metadata": {},
     "output_type": "execute_result"
    }
   ],
   "source": [
    "s = \"race a car\"\n",
    "Solution().isPalindrome(s)"
   ]
  },
  {
   "cell_type": "code",
   "execution_count": 18,
   "id": "89b69a3a-9e54-45d4-99e1-bac73284bfa8",
   "metadata": {},
   "outputs": [
    {
     "data": {
      "text/plain": [
       "True"
      ]
     },
     "execution_count": 18,
     "metadata": {},
     "output_type": "execute_result"
    }
   ],
   "source": [
    "s = \" \"\n",
    "Solution().isPalindrome(s)"
   ]
  },
  {
   "cell_type": "markdown",
   "id": "7f4f1326-4f9a-45ce-a052-e9630e2f1553",
   "metadata": {},
   "source": [
    "## 167"
   ]
  },
  {
   "cell_type": "code",
   "execution_count": 32,
   "id": "f4847e0c-b723-4a3d-b953-087ecd0ba63f",
   "metadata": {},
   "outputs": [],
   "source": [
    "# two pointer sorted array\n",
    "class Solution:\n",
    "    def twoSum(self, numbers: List[int], target: int) -> List[int]:\n",
    "        left = 0\n",
    "        right = len(numbers) - 1\n",
    "        while left < right:\n",
    "            if numbers[left] + numbers[right] == target:\n",
    "                return [left+1, right+1]\n",
    "            if numbers[left] + numbers[right] < target:\n",
    "                left += 1\n",
    "            else:\n",
    "                right -= 1"
   ]
  },
  {
   "cell_type": "code",
   "execution_count": 33,
   "id": "066b0b71-667b-4557-84e8-8e45f204b163",
   "metadata": {},
   "outputs": [
    {
     "data": {
      "text/plain": [
       "[1, 2]"
      ]
     },
     "execution_count": 33,
     "metadata": {},
     "output_type": "execute_result"
    }
   ],
   "source": [
    "numbers = [2,7,11,15]\n",
    "target = 9\n",
    "Solution().twoSum(numbers, target)"
   ]
  },
  {
   "cell_type": "code",
   "execution_count": 34,
   "id": "828edd74-fc97-46c2-853c-914b82857ed2",
   "metadata": {},
   "outputs": [
    {
     "data": {
      "text/plain": [
       "[1, 3]"
      ]
     },
     "execution_count": 34,
     "metadata": {},
     "output_type": "execute_result"
    }
   ],
   "source": [
    "numbers = [2,3,4]\n",
    "target = 6\n",
    "Solution().twoSum(numbers, target)"
   ]
  },
  {
   "cell_type": "code",
   "execution_count": 35,
   "id": "552b5d1a-38aa-466b-a2e7-7e24d3f5a40b",
   "metadata": {},
   "outputs": [
    {
     "data": {
      "text/plain": [
       "[1, 2]"
      ]
     },
     "execution_count": 35,
     "metadata": {},
     "output_type": "execute_result"
    }
   ],
   "source": [
    "numbers = [-1,0]\n",
    "target = -1\n",
    "Solution().twoSum(numbers, target)"
   ]
  },
  {
   "cell_type": "markdown",
   "id": "bab91090-c3af-42ba-8697-17c4ac42366c",
   "metadata": {},
   "source": [
    "## 15"
   ]
  },
  {
   "cell_type": "code",
   "execution_count": 81,
   "id": "d270bced-2aab-4499-a014-c95b01a1fd59",
   "metadata": {},
   "outputs": [],
   "source": [
    "class Solution:\n",
    "    def threeSum(self, nums: List[int]) -> List[List[int]]:\n",
    "        nums.sort()\n",
    "        res = []\n",
    "        for i, v in enumerate(nums):\n",
    "            if i > 0 and nums[i-1] == v:\n",
    "                continue\n",
    "            target = -v\n",
    "            left,right = i+1, len(nums) - 1\n",
    "            while left < right:\n",
    "                if nums[left] + nums[right] == target:\n",
    "                    res.append([v, nums[left], nums[right]])\n",
    "                    left += 1\n",
    "                    right -= 1\n",
    "                    while nums[left] == nums[left-1] and left < right:\n",
    "                        left += 1\n",
    "                    continue\n",
    "                if nums[left] + nums[right] > target:\n",
    "                    right -= 1\n",
    "                else:\n",
    "                    left += 1\n",
    "        return res"
   ]
  },
  {
   "cell_type": "code",
   "execution_count": 82,
   "id": "a414fc56-a89b-4a88-9240-67258549a148",
   "metadata": {},
   "outputs": [
    {
     "data": {
      "text/plain": [
       "[[-2, 0, 2]]"
      ]
     },
     "execution_count": 82,
     "metadata": {},
     "output_type": "execute_result"
    }
   ],
   "source": [
    "nums = [-2,0,0,2,2]\n",
    "Solution().threeSum(nums)"
   ]
  },
  {
   "cell_type": "code",
   "execution_count": 83,
   "id": "285bf5cb-c28c-4d2d-8621-238f496ce7db",
   "metadata": {},
   "outputs": [
    {
     "data": {
      "text/plain": [
       "[[0, 0, 0]]"
      ]
     },
     "execution_count": 83,
     "metadata": {},
     "output_type": "execute_result"
    }
   ],
   "source": [
    "nums = [0,0,0,0]\n",
    "Solution().threeSum(nums)"
   ]
  },
  {
   "cell_type": "code",
   "execution_count": 84,
   "id": "c5925dfb-d6bb-463c-b2c7-c2243a426602",
   "metadata": {},
   "outputs": [
    {
     "data": {
      "text/plain": [
       "[[-1, -1, 2], [-1, 0, 1]]"
      ]
     },
     "execution_count": 84,
     "metadata": {},
     "output_type": "execute_result"
    }
   ],
   "source": [
    "nums = [-1,0,1,2,-1,-4]\n",
    "Solution().threeSum(nums)"
   ]
  },
  {
   "cell_type": "code",
   "execution_count": 78,
   "id": "b80c3fba-3a87-4d1a-a7b6-bf553fd62343",
   "metadata": {},
   "outputs": [
    {
     "data": {
      "text/plain": [
       "[]"
      ]
     },
     "execution_count": 78,
     "metadata": {},
     "output_type": "execute_result"
    }
   ],
   "source": [
    "nums = [0,1,1]\n",
    "Solution().threeSum(nums)"
   ]
  },
  {
   "cell_type": "code",
   "execution_count": 79,
   "id": "8699290e-fb83-459e-9b9f-c9e9cd34aa59",
   "metadata": {},
   "outputs": [
    {
     "data": {
      "text/plain": [
       "[[0, 0, 0]]"
      ]
     },
     "execution_count": 79,
     "metadata": {},
     "output_type": "execute_result"
    }
   ],
   "source": [
    "nums = [0,0,0]\n",
    "Solution().threeSum(nums)"
   ]
  },
  {
   "cell_type": "markdown",
   "id": "e3da9b49-5090-4c9e-996e-b6e8a957f7aa",
   "metadata": {},
   "source": [
    "## 11"
   ]
  },
  {
   "cell_type": "code",
   "execution_count": 88,
   "id": "6d468bc6-6c6d-4859-a10f-2af222d1e938",
   "metadata": {},
   "outputs": [],
   "source": [
    "class Solution:\n",
    "    def maxArea(self, height: List[int]) -> int:\n",
    "        left = 0\n",
    "        right = len(height) - 1\n",
    "        maxArea = 0\n",
    "        while left < right:\n",
    "            maxArea = max(maxArea, (right - left) * min(height[right], height[left]))\n",
    "            if height[left] < height[right]:\n",
    "                left += 1\n",
    "            else:\n",
    "                right -= 1\n",
    "        return maxArea"
   ]
  },
  {
   "cell_type": "code",
   "execution_count": 89,
   "id": "030e3b9c-d810-4bf5-96cd-dd8ae1de2070",
   "metadata": {},
   "outputs": [
    {
     "data": {
      "text/plain": [
       "49"
      ]
     },
     "execution_count": 89,
     "metadata": {},
     "output_type": "execute_result"
    }
   ],
   "source": [
    "height = [1,8,6,2,5,4,8,3,7]\n",
    "Solution().maxArea(height)\n"
   ]
  },
  {
   "cell_type": "code",
   "execution_count": 90,
   "id": "f4768660-ad08-4a34-876b-9552e5e5ea48",
   "metadata": {},
   "outputs": [
    {
     "data": {
      "text/plain": [
       "1"
      ]
     },
     "execution_count": 90,
     "metadata": {},
     "output_type": "execute_result"
    }
   ],
   "source": [
    "height = [1,1]\n",
    "Solution().maxArea(height)\n"
   ]
  },
  {
   "cell_type": "code",
   "execution_count": null,
   "id": "fbd658d1-d956-4eb8-8966-f8ddc3580e02",
   "metadata": {},
   "outputs": [],
   "source": []
  }
 ],
 "metadata": {
  "kernelspec": {
   "display_name": "Python 3 (ipykernel)",
   "language": "python",
   "name": "python3"
  },
  "language_info": {
   "codemirror_mode": {
    "name": "ipython",
    "version": 3
   },
   "file_extension": ".py",
   "mimetype": "text/x-python",
   "name": "python",
   "nbconvert_exporter": "python",
   "pygments_lexer": "ipython3",
   "version": "3.9.12"
  }
 },
 "nbformat": 4,
 "nbformat_minor": 5
}
