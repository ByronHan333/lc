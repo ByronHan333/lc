{
 "cells": [
  {
   "cell_type": "code",
   "execution_count": 8,
   "id": "87596dc8",
   "metadata": {},
   "outputs": [],
   "source": [
    "from typing import List\n"
   ]
  },
  {
   "cell_type": "markdown",
   "id": "6749d311",
   "metadata": {},
   "source": [
    "## 931"
   ]
  },
  {
   "cell_type": "code",
   "execution_count": 1,
   "id": "a313753a",
   "metadata": {},
   "outputs": [],
   "source": [
    "matrix = [[2,1,3],[6,5,4],[7,8,9]]\n"
   ]
  },
  {
   "cell_type": "code",
   "execution_count": 6,
   "id": "befbac54",
   "metadata": {},
   "outputs": [
    {
     "name": "stdout",
     "output_type": "stream",
     "text": [
      "here\n"
     ]
    }
   ],
   "source": [
    "if matrix[2][-2]:\n",
    "    print(\"here\")"
   ]
  },
  {
   "cell_type": "code",
   "execution_count": 3,
   "id": "8529c517-8536-4dfd-aac9-4d564c839914",
   "metadata": {},
   "outputs": [
    {
     "name": "stdout",
     "output_type": "stream",
     "text": [
      "3\n",
      "2\n",
      "1\n",
      "0\n"
     ]
    }
   ],
   "source": [
    "for i in range(3,-1,-1):\n",
    "    print(i)"
   ]
  },
  {
   "cell_type": "code",
   "execution_count": 24,
   "id": "bb8b3463",
   "metadata": {},
   "outputs": [],
   "source": [
    "class Solution:\n",
    "    def findMinCurrentRow(self, currentRow, nextRow):\n",
    "        dim = len(currentRow)\n",
    "        for i in range(dim):\n",
    "            if i == 0:\n",
    "                currentRow[i] = currentRow[i] + min(nextRow[i], nextRow[i+1])\n",
    "            elif i == dim-1:\n",
    "                currentRow[i] = currentRow[i] + min(nextRow[i-1], nextRow[i])\n",
    "            else:\n",
    "                currentRow[i] = currentRow[i] + min(nextRow[i-1], nextRow[i], nextRow[i+1])\n",
    "        return currentRow\n",
    "    \n",
    "    def minFallingPathSum(self, matrix: List[List[int]]) -> int:\n",
    "        # start from second row from the bottom,\n",
    "        # find minimum of\n",
    "        # current + either 3 of choices\n",
    "        dim = len(matrix)\n",
    "        for i in range(dim-2, -1, -1):\n",
    "            matrix[i] = self.findMinCurrentRow(matrix[i], matrix[i+1])\n",
    "        return(min(matrix[0]))\n"
   ]
  },
  {
   "cell_type": "code",
   "execution_count": 25,
   "id": "3f3b6269",
   "metadata": {},
   "outputs": [
    {
     "data": {
      "text/plain": [
       "13"
      ]
     },
     "execution_count": 25,
     "metadata": {},
     "output_type": "execute_result"
    }
   ],
   "source": [
    "matrix = [[2,1,3],[6,5,4],[7,8,9]]\n",
    "Solution().minFallingPathSum(matrix)"
   ]
  },
  {
   "cell_type": "markdown",
   "id": "f5e1046e-758c-43af-ab34-4e6fed4e800e",
   "metadata": {},
   "source": [
    "## 704"
   ]
  },
  {
   "cell_type": "code",
   "execution_count": 67,
   "id": "7bea2614-7418-4b74-a1cc-5a32e3466697",
   "metadata": {},
   "outputs": [],
   "source": [
    "class Solution:\n",
    "    def search(self, nums: List[int], target: int) -> int:\n",
    "        if len(nums)==0: return -1\n",
    "        if len(nums)==1 and nums[0]==target: return 0\n",
    "        if len(nums)==1: return -1\n",
    "        \n",
    "        \n",
    "        mid = len(nums) // 2\n",
    "        if nums[mid] == target:\n",
    "            return mid\n",
    "        elif nums[mid] > target:\n",
    "            return self.search(nums[:mid], target)\n",
    "        else:\n",
    "            searchResult = self.search(nums[mid+1:], target)\n",
    "            if searchResult == -1: return -1\n",
    "            return mid+1+searchResult"
   ]
  },
  {
   "cell_type": "code",
   "execution_count": 68,
   "id": "0775dbfe-b6ad-41e8-8fed-54be21f4341c",
   "metadata": {},
   "outputs": [
    {
     "data": {
      "text/plain": [
       "4"
      ]
     },
     "execution_count": 68,
     "metadata": {},
     "output_type": "execute_result"
    }
   ],
   "source": [
    "nums = [-1,0,3,5,9,12]\n",
    "target = 9\n",
    "Solution().search(nums, target)\n"
   ]
  },
  {
   "cell_type": "code",
   "execution_count": 69,
   "id": "485620b2-bb08-4ef7-b69c-f1d4f3367cf2",
   "metadata": {},
   "outputs": [
    {
     "data": {
      "text/plain": [
       "-1"
      ]
     },
     "execution_count": 69,
     "metadata": {},
     "output_type": "execute_result"
    }
   ],
   "source": [
    "nums = [-1,0,3,5,9,12]\n",
    "target = 2\n",
    "Solution().search(nums, target)\n"
   ]
  },
  {
   "cell_type": "code",
   "execution_count": 52,
   "id": "683e1279-61bd-46b5-bf48-d65f023f8384",
   "metadata": {},
   "outputs": [
    {
     "data": {
      "text/plain": [
       "1"
      ]
     },
     "execution_count": 52,
     "metadata": {},
     "output_type": "execute_result"
    }
   ],
   "source": [
    "3//2"
   ]
  },
  {
   "cell_type": "code",
   "execution_count": 54,
   "id": "8b1996b3-a64e-4567-a1dd-95a4f5f25348",
   "metadata": {},
   "outputs": [
    {
     "data": {
      "text/plain": [
       "[2, 3, 4]"
      ]
     },
     "execution_count": 54,
     "metadata": {},
     "output_type": "execute_result"
    }
   ],
   "source": [
    "nums = [0,1,2,3,4]\n",
    "nums[2:]"
   ]
  },
  {
   "cell_type": "code",
   "execution_count": 71,
   "id": "024720c4-a7a6-4cc7-b17c-6b08d2c22070",
   "metadata": {},
   "outputs": [],
   "source": [
    "# def func():\n",
    "    # return None if 0==0 "
   ]
  },
  {
   "cell_type": "markdown",
   "id": "2192087a-7091-4f60-9f78-237a03674941",
   "metadata": {},
   "source": [
    "## 74"
   ]
  },
  {
   "cell_type": "code",
   "execution_count": 42,
   "id": "319952ec-8437-487b-a440-e4a6427d01fb",
   "metadata": {},
   "outputs": [],
   "source": [
    "class Solution:\n",
    "    def bSearch(self, matrix, nRow, nCol, start, end, target):\n",
    "        if start > end: return False\n",
    "        if start==end and matrix[start//nCol][start%nCol]==target: return True\n",
    "        if start==end: return False\n",
    "    \n",
    "        mid = (start+end) // 2\n",
    "        r = mid // nCol\n",
    "        c = mid % nCol\n",
    "        \n",
    "        if matrix[r][c] == target:\n",
    "            return True\n",
    "        elif matrix[r][c] > target:\n",
    "            return self.bSearch(matrix, nRow, nCol, start, mid-1, target)\n",
    "        else:\n",
    "            return self.bSearch(matrix, nRow, nCol, mid+1, end, target)\n",
    "    \n",
    "    \n",
    "    def searchMatrix(self, matrix: List[List[int]], target: int) -> bool:\n",
    "        nRow = len(matrix)\n",
    "        nCol = len(matrix[0])\n",
    "        return self.bSearch(matrix, nRow, nCol, 0, nRow*nCol-1, target)"
   ]
  },
  {
   "cell_type": "code",
   "execution_count": 39,
   "id": "f73df2a3-9cfa-46e8-bdc3-8b657572d8fd",
   "metadata": {},
   "outputs": [
    {
     "data": {
      "text/plain": [
       "True"
      ]
     },
     "execution_count": 39,
     "metadata": {},
     "output_type": "execute_result"
    }
   ],
   "source": [
    "matrix = [[1,3,5,7],[10,11,16,20],[23,30,34,60]]\n",
    "target = 3\n",
    "Solution().searchMatrix(matrix, target)\n"
   ]
  },
  {
   "cell_type": "code",
   "execution_count": 40,
   "id": "f5ad710e-f924-470c-b2b1-e8a2134f8050",
   "metadata": {},
   "outputs": [
    {
     "data": {
      "text/plain": [
       "False"
      ]
     },
     "execution_count": 40,
     "metadata": {},
     "output_type": "execute_result"
    }
   ],
   "source": [
    "matrix = [[1,3,5,7],[10,11,16,20],[23,30,34,60]]\n",
    "target = 13\n",
    "Solution().searchMatrix(matrix, target)\n"
   ]
  },
  {
   "cell_type": "code",
   "execution_count": 41,
   "id": "75c494d7-02d0-4733-a80c-e5908030d378",
   "metadata": {},
   "outputs": [
    {
     "data": {
      "text/plain": [
       "True"
      ]
     },
     "execution_count": 41,
     "metadata": {},
     "output_type": "execute_result"
    }
   ],
   "source": [
    "matrix = [[1,3]]\n",
    "target = 3\n",
    "Solution().searchMatrix(matrix, target)\n"
   ]
  },
  {
   "cell_type": "code",
   "execution_count": 25,
   "id": "cccce6a5-a693-4147-b179-8a3deb50d271",
   "metadata": {},
   "outputs": [
    {
     "data": {
      "text/plain": [
       "0"
      ]
     },
     "execution_count": 25,
     "metadata": {},
     "output_type": "execute_result"
    }
   ],
   "source": [
    "1//2"
   ]
  },
  {
   "cell_type": "code",
   "execution_count": 26,
   "id": "3cca32a8-fe88-40bd-9120-7844b6b22e89",
   "metadata": {},
   "outputs": [
    {
     "data": {
      "text/plain": [
       "0"
      ]
     },
     "execution_count": 26,
     "metadata": {},
     "output_type": "execute_result"
    }
   ],
   "source": [
    "1%1"
   ]
  },
  {
   "cell_type": "code",
   "execution_count": 5,
   "id": "9a74b5b1-abc1-4291-88df-00106fe8654e",
   "metadata": {},
   "outputs": [
    {
     "data": {
      "text/plain": [
       "3"
      ]
     },
     "execution_count": 5,
     "metadata": {},
     "output_type": "execute_result"
    }
   ],
   "source": [
    "10//3"
   ]
  },
  {
   "cell_type": "code",
   "execution_count": 6,
   "id": "9fc30f93-6b00-4485-801e-5bc1cca44aad",
   "metadata": {},
   "outputs": [
    {
     "data": {
      "text/plain": [
       "1"
      ]
     },
     "execution_count": 6,
     "metadata": {},
     "output_type": "execute_result"
    }
   ],
   "source": [
    "3//2"
   ]
  },
  {
   "cell_type": "markdown",
   "id": "35489038-e091-4332-bd39-ebd00f3e2b34",
   "metadata": {},
   "source": [
    "## 875"
   ]
  },
  {
   "cell_type": "code",
   "execution_count": 93,
   "id": "efd24e43-9a85-4b87-a8aa-5df6bbb1c7b1",
   "metadata": {},
   "outputs": [],
   "source": [
    "class Solution:\n",
    "    def eatTime(self, piles, k):\n",
    "        time = 0\n",
    "        for p in piles:\n",
    "            time += -(-p // k)\n",
    "        return time\n",
    "    \n",
    "    def minEatingSpeed(self, piles: List[int], h: int) -> int:\n",
    "        if len(piles) > h: return -1\n",
    "        left = 1\n",
    "        right = max(piles)\n",
    "        minSpeed = right\n",
    "        \n",
    "        while left <= right:\n",
    "            mid = left+(right-left)//2\n",
    "            if self.eatTime(piles, mid) <= h:\n",
    "                right = mid - 1\n",
    "                minSpeed = mid\n",
    "            else:\n",
    "                left = mid + 1\n",
    "            \n",
    "        return minSpeed"
   ]
  },
  {
   "cell_type": "code",
   "execution_count": 94,
   "id": "1fc62ab3-ddc4-4dbe-b438-11be89e7e336",
   "metadata": {},
   "outputs": [
    {
     "name": "stdout",
     "output_type": "stream",
     "text": [
      "1\n",
      "2\n",
      "2\n",
      "3\n"
     ]
    }
   ],
   "source": [
    "\n",
    "for i in [3,6,7,11]:\n",
    "    print(i // 4 + 1)"
   ]
  },
  {
   "cell_type": "code",
   "execution_count": 95,
   "id": "16292aa6-e964-4d91-b9dd-db2855eebc0c",
   "metadata": {},
   "outputs": [
    {
     "data": {
      "text/plain": [
       "2"
      ]
     },
     "execution_count": 95,
     "metadata": {},
     "output_type": "execute_result"
    }
   ],
   "source": [
    "piles = [312884470]\n",
    "h = 312884469\n",
    "Solution().minEatingSpeed(piles, h)\n"
   ]
  },
  {
   "cell_type": "code",
   "execution_count": 86,
   "id": "b7b9242e-5cd0-468f-a438-ae2b8b992296",
   "metadata": {},
   "outputs": [
    {
     "data": {
      "text/plain": [
       "4"
      ]
     },
     "execution_count": 86,
     "metadata": {},
     "output_type": "execute_result"
    }
   ],
   "source": [
    "piles = [3,6,7,11]\n",
    "h = 8\n",
    "Solution().minEatingSpeed(piles, h)\n"
   ]
  },
  {
   "cell_type": "code",
   "execution_count": 87,
   "id": "472fede6-6196-4e62-83b7-8cde7eaff33d",
   "metadata": {},
   "outputs": [
    {
     "data": {
      "text/plain": [
       "30"
      ]
     },
     "execution_count": 87,
     "metadata": {},
     "output_type": "execute_result"
    }
   ],
   "source": [
    "piles = [30,11,23,4,20]\n",
    "h = 5\n",
    "Solution().minEatingSpeed(piles, h)\n"
   ]
  },
  {
   "cell_type": "code",
   "execution_count": 88,
   "id": "fe35df11-ddfb-4820-b222-e5e558b8b1bd",
   "metadata": {},
   "outputs": [
    {
     "data": {
      "text/plain": [
       "23"
      ]
     },
     "execution_count": 88,
     "metadata": {},
     "output_type": "execute_result"
    }
   ],
   "source": [
    "piles = [30,11,23,4,20]\n",
    "h = 6\n",
    "Solution().minEatingSpeed(piles, h)\n"
   ]
  },
  {
   "cell_type": "code",
   "execution_count": 80,
   "id": "d61d6d25-3b63-4b6e-a9c7-66df4c3afbd9",
   "metadata": {},
   "outputs": [
    {
     "data": {
      "text/plain": [
       "-2"
      ]
     },
     "execution_count": 80,
     "metadata": {},
     "output_type": "execute_result"
    }
   ],
   "source": [
    "-3//2"
   ]
  },
  {
   "cell_type": "code",
   "execution_count": 96,
   "id": "9c8e70ac-670c-4a77-add9-3514adc9c8f0",
   "metadata": {},
   "outputs": [
    {
     "data": {
      "text/plain": [
       "11"
      ]
     },
     "execution_count": 96,
     "metadata": {},
     "output_type": "execute_result"
    }
   ],
   "source": [
    "time = 0\n",
    "for p in [30,11,23,4,20]:\n",
    "    time += -(-p // 23) + 1\n",
    "time"
   ]
  },
  {
   "cell_type": "markdown",
   "id": "4c9412d5-808a-42c9-b733-c292f8f719a7",
   "metadata": {},
   "source": [
    "## 33"
   ]
  },
  {
   "cell_type": "code",
   "execution_count": 98,
   "id": "3ab26eea-e9da-4a94-a45c-1e2cd6496250",
   "metadata": {},
   "outputs": [],
   "source": [
    "class Solution:\n",
    "    def search(self, nums: List[int], target: int) -> int:\n",
    "        return"
   ]
  },
  {
   "cell_type": "code",
   "execution_count": 99,
   "id": "f5d072ba-2479-4dba-8423-f0492823f887",
   "metadata": {},
   "outputs": [],
   "source": [
    "nums = [4,5,6,7,0,1,2]\n",
    "target = 0\n",
    "Solution().search(nums, target)"
   ]
  },
  {
   "cell_type": "code",
   "execution_count": null,
   "id": "0e03ecaa-44be-4d3d-9b81-f5dcf8bb2eb7",
   "metadata": {},
   "outputs": [],
   "source": [
    "nums = [4,5,6,7,0,1,2],target = 3\n"
   ]
  }
 ],
 "metadata": {
  "kernelspec": {
   "display_name": "Python 3 (ipykernel)",
   "language": "python",
   "name": "python3"
  },
  "language_info": {
   "codemirror_mode": {
    "name": "ipython",
    "version": 3
   },
   "file_extension": ".py",
   "mimetype": "text/x-python",
   "name": "python",
   "nbconvert_exporter": "python",
   "pygments_lexer": "ipython3",
   "version": "3.9.12"
  },
  "vscode": {
   "interpreter": {
    "hash": "69e76fd64b3fbf920c3eb69451657cdd5e0993c4e6aaf32ed4e4ec96f5c82dd1"
   }
  }
 },
 "nbformat": 4,
 "nbformat_minor": 5
}
