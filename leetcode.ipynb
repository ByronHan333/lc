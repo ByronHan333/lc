{
 "cells": [
  {
   "cell_type": "code",
   "execution_count": 5,
   "id": "87596dc8",
   "metadata": {},
   "outputs": [],
   "source": [
    "from typing import List\n"
   ]
  },
  {
   "cell_type": "markdown",
   "id": "6749d311",
   "metadata": {},
   "source": [
    "## 931"
   ]
  },
  {
   "cell_type": "code",
   "execution_count": 1,
   "id": "a313753a",
   "metadata": {},
   "outputs": [],
   "source": [
    "matrix = [[2,1,3],[6,5,4],[7,8,9]]\n"
   ]
  },
  {
   "cell_type": "code",
   "execution_count": 6,
   "id": "befbac54",
   "metadata": {},
   "outputs": [
    {
     "name": "stdout",
     "output_type": "stream",
     "text": [
      "here\n"
     ]
    }
   ],
   "source": [
    "if matrix[2][-2]:\n",
    "    print(\"here\")"
   ]
  },
  {
   "cell_type": "code",
   "execution_count": 3,
   "id": "8529c517-8536-4dfd-aac9-4d564c839914",
   "metadata": {},
   "outputs": [
    {
     "name": "stdout",
     "output_type": "stream",
     "text": [
      "3\n",
      "2\n",
      "1\n",
      "0\n"
     ]
    }
   ],
   "source": [
    "for i in range(3,-1,-1):\n",
    "    print(i)"
   ]
  },
  {
   "cell_type": "code",
   "execution_count": 24,
   "id": "bb8b3463",
   "metadata": {},
   "outputs": [],
   "source": [
    "class Solution:\n",
    "    def findMinCurrentRow(self, currentRow, nextRow):\n",
    "        dim = len(currentRow)\n",
    "        for i in range(dim):\n",
    "            if i == 0:\n",
    "                currentRow[i] = currentRow[i] + min(nextRow[i], nextRow[i+1])\n",
    "            elif i == dim-1:\n",
    "                currentRow[i] = currentRow[i] + min(nextRow[i-1], nextRow[i])\n",
    "            else:\n",
    "                currentRow[i] = currentRow[i] + min(nextRow[i-1], nextRow[i], nextRow[i+1])\n",
    "        return currentRow\n",
    "    \n",
    "    def minFallingPathSum(self, matrix: List[List[int]]) -> int:\n",
    "        # start from second row from the bottom,\n",
    "        # find minimum of\n",
    "        # current + either 3 of choices\n",
    "        dim = len(matrix)\n",
    "        for i in range(dim-2, -1, -1):\n",
    "            matrix[i] = self.findMinCurrentRow(matrix[i], matrix[i+1])\n",
    "        return(min(matrix[0]))\n"
   ]
  },
  {
   "cell_type": "code",
   "execution_count": 25,
   "id": "3f3b6269",
   "metadata": {},
   "outputs": [
    {
     "data": {
      "text/plain": [
       "13"
      ]
     },
     "execution_count": 25,
     "metadata": {},
     "output_type": "execute_result"
    }
   ],
   "source": [
    "matrix = [[2,1,3],[6,5,4],[7,8,9]]\n",
    "Solution().minFallingPathSum(matrix)"
   ]
  },
  {
   "cell_type": "markdown",
   "id": "f5e1046e-758c-43af-ab34-4e6fed4e800e",
   "metadata": {},
   "source": [
    "## 704"
   ]
  },
  {
   "cell_type": "code",
   "execution_count": 67,
   "id": "7bea2614-7418-4b74-a1cc-5a32e3466697",
   "metadata": {},
   "outputs": [],
   "source": [
    "class Solution:\n",
    "    def search(self, nums: List[int], target: int) -> int:\n",
    "        if len(nums)==0: return -1\n",
    "        if len(nums)==1 and nums[0]==target: return 0\n",
    "        if len(nums)==1: return -1\n",
    "        \n",
    "        \n",
    "        mid = len(nums) // 2\n",
    "        if nums[mid] == target:\n",
    "            return mid\n",
    "        elif nums[mid] > target:\n",
    "            return self.search(nums[:mid], target)\n",
    "        else:\n",
    "            searchResult = self.search(nums[mid+1:], target)\n",
    "            if searchResult == -1: return -1\n",
    "            return mid+1+searchResult"
   ]
  },
  {
   "cell_type": "code",
   "execution_count": 68,
   "id": "0775dbfe-b6ad-41e8-8fed-54be21f4341c",
   "metadata": {},
   "outputs": [
    {
     "data": {
      "text/plain": [
       "4"
      ]
     },
     "execution_count": 68,
     "metadata": {},
     "output_type": "execute_result"
    }
   ],
   "source": [
    "nums = [-1,0,3,5,9,12]\n",
    "target = 9\n",
    "Solution().search(nums, target)\n"
   ]
  },
  {
   "cell_type": "code",
   "execution_count": 69,
   "id": "485620b2-bb08-4ef7-b69c-f1d4f3367cf2",
   "metadata": {},
   "outputs": [
    {
     "data": {
      "text/plain": [
       "-1"
      ]
     },
     "execution_count": 69,
     "metadata": {},
     "output_type": "execute_result"
    }
   ],
   "source": [
    "nums = [-1,0,3,5,9,12]\n",
    "target = 2\n",
    "Solution().search(nums, target)\n"
   ]
  },
  {
   "cell_type": "code",
   "execution_count": 52,
   "id": "683e1279-61bd-46b5-bf48-d65f023f8384",
   "metadata": {},
   "outputs": [
    {
     "data": {
      "text/plain": [
       "1"
      ]
     },
     "execution_count": 52,
     "metadata": {},
     "output_type": "execute_result"
    }
   ],
   "source": [
    "3//2"
   ]
  },
  {
   "cell_type": "code",
   "execution_count": 54,
   "id": "8b1996b3-a64e-4567-a1dd-95a4f5f25348",
   "metadata": {},
   "outputs": [
    {
     "data": {
      "text/plain": [
       "[2, 3, 4]"
      ]
     },
     "execution_count": 54,
     "metadata": {},
     "output_type": "execute_result"
    }
   ],
   "source": [
    "nums = [0,1,2,3,4]\n",
    "nums[2:]"
   ]
  },
  {
   "cell_type": "code",
   "execution_count": 71,
   "id": "024720c4-a7a6-4cc7-b17c-6b08d2c22070",
   "metadata": {},
   "outputs": [],
   "source": [
    "# def func():\n",
    "    # return None if 0==0 "
   ]
  },
  {
   "cell_type": "markdown",
   "id": "2192087a-7091-4f60-9f78-237a03674941",
   "metadata": {},
   "source": [
    "## 74"
   ]
  },
  {
   "cell_type": "code",
   "execution_count": null,
   "id": "319952ec-8437-487b-a440-e4a6427d01fb",
   "metadata": {},
   "outputs": [],
   "source": []
  }
 ],
 "metadata": {
  "kernelspec": {
   "display_name": "Python 3 (ipykernel)",
   "language": "python",
   "name": "python3"
  },
  "language_info": {
   "codemirror_mode": {
    "name": "ipython",
    "version": 3
   },
   "file_extension": ".py",
   "mimetype": "text/x-python",
   "name": "python",
   "nbconvert_exporter": "python",
   "pygments_lexer": "ipython3",
   "version": "3.9.12"
  },
  "vscode": {
   "interpreter": {
    "hash": "69e76fd64b3fbf920c3eb69451657cdd5e0993c4e6aaf32ed4e4ec96f5c82dd1"
   }
  }
 },
 "nbformat": 4,
 "nbformat_minor": 5
}
