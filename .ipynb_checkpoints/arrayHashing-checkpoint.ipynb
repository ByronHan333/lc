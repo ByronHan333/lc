{
 "cells": [
  {
   "cell_type": "code",
   "execution_count": 1,
   "id": "aa3cf4c8-226b-49b3-8e34-1d6236ab336e",
   "metadata": {},
   "outputs": [],
   "source": [
    "from typing import List\n"
   ]
  },
  {
   "cell_type": "markdown",
   "id": "0c304ee3-6d22-4590-853c-2ae50f5f0389",
   "metadata": {},
   "source": [
    "## 347"
   ]
  },
  {
   "cell_type": "code",
   "execution_count": 39,
   "id": "72e9b2b3-88ac-4607-8ed3-cccf69d3bcec",
   "metadata": {},
   "outputs": [],
   "source": [
    "import collections\n",
    "\n",
    "class Solution:\n",
    "    def topKFrequent(self, nums: List[int], k: int) -> List[int]:\n",
    "        d = collections.defaultdict(int)\n",
    "        for i in nums:\n",
    "            d[i] += 1\n",
    "        d = sorted(d.items(), key=lambda x: -x[1])[:k]\n",
    "        d = [i[0] for i in d]\n",
    "        return d"
   ]
  },
  {
   "cell_type": "code",
   "execution_count": 40,
   "id": "f52b3f74-ea04-4361-98ae-ca7c9705b09e",
   "metadata": {},
   "outputs": [
    {
     "data": {
      "text/plain": [
       "[1, 2]"
      ]
     },
     "execution_count": 40,
     "metadata": {},
     "output_type": "execute_result"
    }
   ],
   "source": [
    "nums = [1,1,1,2,2,3]\n",
    "k = 2\n",
    "Solution().topKFrequent(nums, k)"
   ]
  },
  {
   "cell_type": "code",
   "execution_count": 41,
   "id": "211131df-62a1-48e7-99b9-239b527031a6",
   "metadata": {},
   "outputs": [
    {
     "data": {
      "text/plain": [
       "[1]"
      ]
     },
     "execution_count": 41,
     "metadata": {},
     "output_type": "execute_result"
    }
   ],
   "source": [
    "nums = [1]\n",
    "k = 1\n",
    "Solution().topKFrequent(nums, k)"
   ]
  },
  {
   "cell_type": "markdown",
   "id": "39a7fbed-2048-4619-813b-038afb6991c6",
   "metadata": {},
   "source": [
    "## 238"
   ]
  },
  {
   "cell_type": "code",
   "execution_count": 43,
   "id": "9531bf18-b151-4bda-a9d1-c1143e06a1f7",
   "metadata": {},
   "outputs": [
    {
     "name": "stdout",
     "output_type": "stream",
     "text": [
      "3\n",
      "2\n",
      "1\n"
     ]
    }
   ],
   "source": [
    "for i in [1,2,3][::-1]:\n",
    "    print(i)"
   ]
  },
  {
   "cell_type": "code",
   "execution_count": 44,
   "id": "9366c091-203f-44af-9883-a99960578ac6",
   "metadata": {},
   "outputs": [
    {
     "name": "stdout",
     "output_type": "stream",
     "text": [
      "1\n",
      "2\n",
      "3\n"
     ]
    }
   ],
   "source": [
    "for i in [1]+[2,3]:\n",
    "    print(i)"
   ]
  },
  {
   "cell_type": "code",
   "execution_count": 45,
   "id": "2dab8931-9e41-445a-913a-72741459acdb",
   "metadata": {},
   "outputs": [
    {
     "data": {
      "text/plain": [
       "[1, 2]"
      ]
     },
     "execution_count": 45,
     "metadata": {},
     "output_type": "execute_result"
    }
   ],
   "source": [
    "[1,2,3][:-1]"
   ]
  },
  {
   "cell_type": "code",
   "execution_count": 60,
   "id": "35eeddc7-d78e-43f4-ae9f-414dcb679070",
   "metadata": {},
   "outputs": [
    {
     "name": "stdout",
     "output_type": "stream",
     "text": [
      "0 3\n",
      "1 2\n",
      "2 1\n"
     ]
    }
   ],
   "source": [
    "for i,v in enumerate([1,2,3][::-1]):\n",
    "    print(i,v)"
   ]
  },
  {
   "cell_type": "code",
   "execution_count": 92,
   "id": "ae8ba797-7b48-475e-9538-f5be1e05549b",
   "metadata": {
    "tags": []
   },
   "outputs": [],
   "source": [
    "# one run for prefix array\n",
    "# one run for postfix array\n",
    "\n",
    "# class Solution:\n",
    "#     def productExceptSelf(self, nums: List[int]) -> List[int]:\n",
    "#         output = [1]*len(nums)\n",
    "#         for i,v in enumerate([1]+nums[:-1]):\n",
    "#             print(i,v)\n",
    "#             if i == 0:\n",
    "#                 output[i] = v\n",
    "#             else:\n",
    "#                 output[i] = output[i-1]*v\n",
    "#         print(output)\n",
    "#         for i,v in reversed(list(enumerate(nums[1:]+[1]))):\n",
    "#             post = v\n",
    "#                             output[i] *= post\n",
    "#                 post * v\n",
    "#             if i == len(nums)-1:\n",
    "#             else:\n",
    "#                 output[i] *= output[i+1]\n",
    "#         return output"
   ]
  },
  {
   "cell_type": "code",
   "execution_count": 97,
   "id": "7ed7fe0a-3336-4c36-8f98-8d8c8071a8c3",
   "metadata": {},
   "outputs": [],
   "source": [
    "# keep a const for prefix, iterate through array for prefixs\n",
    "# keep a const for postfix, iterate through array for postfixs\n",
    "\n",
    "class Solution:\n",
    "    def productExceptSelf(self, nums: List[int]) -> List[int]:\n",
    "        output = [1]*len(nums)\n",
    "\n",
    "        prefix = 1\n",
    "        for i,v in enumerate(nums):\n",
    "            output[i] = prefix\n",
    "            prefix *= v\n",
    "        postfix = 1\n",
    "        for i,v in reversed(list(enumerate(nums))):\n",
    "            output[i] *= postfix\n",
    "            postfix *= v\n",
    "        return output\n",
    "        "
   ]
  },
  {
   "cell_type": "code",
   "execution_count": 98,
   "id": "ed3cdca4-ef10-4f67-b40a-fe015a212b56",
   "metadata": {},
   "outputs": [
    {
     "data": {
      "text/plain": [
       "[24, 12, 8, 6]"
      ]
     },
     "execution_count": 98,
     "metadata": {},
     "output_type": "execute_result"
    }
   ],
   "source": [
    "nums = [1,2,3,4]\n",
    "Solution().productExceptSelf(nums)"
   ]
  },
  {
   "cell_type": "code",
   "execution_count": 96,
   "id": "dd83b14e-040d-40ac-bd97-12c75579da42",
   "metadata": {},
   "outputs": [
    {
     "data": {
      "text/plain": [
       "[1, 2, 3, 4]"
      ]
     },
     "execution_count": 96,
     "metadata": {},
     "output_type": "execute_result"
    }
   ],
   "source": [
    "[1]+nums[1:]"
   ]
  },
  {
   "cell_type": "code",
   "execution_count": null,
   "id": "1ed0aec1-e595-40c9-91ea-81ba3b290a14",
   "metadata": {},
   "outputs": [],
   "source": []
  }
 ],
 "metadata": {
  "kernelspec": {
   "display_name": "Python 3 (ipykernel)",
   "language": "python",
   "name": "python3"
  },
  "language_info": {
   "codemirror_mode": {
    "name": "ipython",
    "version": 3
   },
   "file_extension": ".py",
   "mimetype": "text/x-python",
   "name": "python",
   "nbconvert_exporter": "python",
   "pygments_lexer": "ipython3",
   "version": "3.9.12"
  }
 },
 "nbformat": 4,
 "nbformat_minor": 5
}
