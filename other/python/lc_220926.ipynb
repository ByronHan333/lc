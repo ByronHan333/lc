{
 "cells": [
  {
   "cell_type": "code",
   "execution_count": 38,
   "id": "7c994af6-48ef-4e2e-bce8-e07fc3ca68bf",
   "metadata": {},
   "outputs": [],
   "source": [
    "from typing import List\n",
    "from collections import Counter, defaultdict"
   ]
  },
  {
   "cell_type": "code",
   "execution_count": 12,
   "id": "37346464",
   "metadata": {},
   "outputs": [],
   "source": [
    "class Solution:\n",
    "    def containsDuplicate(self, nums: List[int]) -> bool:\n",
    "        if len(nums) == len(set(nums)):\n",
    "            return False\n",
    "        return True"
   ]
  },
  {
   "cell_type": "code",
   "execution_count": 13,
   "id": "021be099-764e-4f78-9180-6d0e6beef8a3",
   "metadata": {},
   "outputs": [
    {
     "name": "stdout",
     "output_type": "stream",
     "text": [
      "True\n",
      "False\n",
      "True\n"
     ]
    }
   ],
   "source": [
    "nums = [1,2,3,1]\n",
    "print(Solution().containsDuplicate(nums))\n",
    "nums = [1,2,3,4]\n",
    "print(Solution().containsDuplicate(nums))\n",
    "nums = [1,1,1,3,3,4,3,2,4,2]\n",
    "print(Solution().containsDuplicate(nums))"
   ]
  },
  {
   "cell_type": "code",
   "execution_count": 10,
   "id": "338a7274-f597-4c6c-8659-c517a689ae3c",
   "metadata": {},
   "outputs": [
    {
     "data": {
      "text/plain": [
       "4"
      ]
     },
     "execution_count": 10,
     "metadata": {},
     "output_type": "execute_result"
    }
   ],
   "source": [
    "nums = [1,2,3,1]\n",
    "len(nums)"
   ]
  },
  {
   "cell_type": "code",
   "execution_count": 11,
   "id": "90e35c4d-3f16-4c5f-8777-48e14cbe854c",
   "metadata": {},
   "outputs": [
    {
     "data": {
      "text/plain": [
       "3"
      ]
     },
     "execution_count": 11,
     "metadata": {},
     "output_type": "execute_result"
    }
   ],
   "source": [
    "len(set(nums))"
   ]
  },
  {
   "cell_type": "code",
   "execution_count": 32,
   "id": "58e77226-2d33-4bee-a100-368d9151616a",
   "metadata": {},
   "outputs": [],
   "source": [
    "class Solution:\n",
    "    def isAnagram(self, s: str, t: str) -> bool:\n",
    "        if Counter(s) == Counter(t) and len(s) == len(t):\n",
    "            return True\n",
    "        return False"
   ]
  },
  {
   "cell_type": "code",
   "execution_count": 33,
   "id": "6951e7ce-8955-483f-b9ca-f4b7d5876567",
   "metadata": {},
   "outputs": [
    {
     "name": "stdout",
     "output_type": "stream",
     "text": [
      "True\n",
      "False\n",
      "False\n",
      "False\n"
     ]
    }
   ],
   "source": [
    "s = \"anagram\"\n",
    "t = \"nagaram\"\n",
    "print(Solution().isAnagram(s,t))\n",
    "s = \"rat\"\n",
    "t = \"car\"\n",
    "print(Solution().isAnagram(s,t))\n",
    "s = \"aa\"\n",
    "t = \"a\"\n",
    "print(Solution().isAnagram(s,t))\n",
    "s = \"aacc\"\n",
    "t = \"ccac\"\n",
    "print(Solution().isAnagram(s,t))"
   ]
  },
  {
   "cell_type": "code",
   "execution_count": 24,
   "id": "dfa564c0-e7af-4ec3-8447-ee9fd71a98be",
   "metadata": {},
   "outputs": [
    {
     "data": {
      "text/plain": [
       "False"
      ]
     },
     "execution_count": 24,
     "metadata": {},
     "output_type": "execute_result"
    }
   ],
   "source": [
    "s = \"aa\"\n",
    "t = \"a\"\n",
    "set(s) == set(t)\n",
    "len(s) == len(t)\n",
    "set(s) == set(t) and len(s) == len(t)"
   ]
  },
  {
   "cell_type": "code",
   "execution_count": 45,
   "id": "1264fd90-bea9-4c4b-8260-97028da52cef",
   "metadata": {},
   "outputs": [],
   "source": [
    "class Solution:\n",
    "    def twoSum(self, nums: List[int], target: int) -> List[int]:\n",
    "        d = defaultdict()\n",
    "        for i, v in enumerate(nums):\n",
    "            if target - v in d:\n",
    "                return [d[target - v], i]\n",
    "            else:\n",
    "                d[v] = i\n",
    "        return \n",
    "            "
   ]
  },
  {
   "cell_type": "code",
   "execution_count": 46,
   "id": "e95cfa9e-3bd9-4f67-a548-3587b633920a",
   "metadata": {},
   "outputs": [
    {
     "name": "stdout",
     "output_type": "stream",
     "text": [
      "[0, 1]\n",
      "[1, 2]\n",
      "[0, 1]\n"
     ]
    }
   ],
   "source": [
    "nums = [2,7,11,15]\n",
    "target = 9\n",
    "print(Solution().twoSum(nums,target))\n",
    "nums = [3,2,4]\n",
    "target = 6\n",
    "print(Solution().twoSum(nums,target))\n",
    "nums = [3,3]\n",
    "target = 6\n",
    "print(Solution().twoSum(nums,target))"
   ]
  },
  {
   "cell_type": "code",
   "execution_count": 52,
   "id": "9e2c3cc9-e657-451b-8d98-88957ec72384",
   "metadata": {},
   "outputs": [
    {
     "data": {
      "text/plain": [
       "['e', 'a', 't']"
      ]
     },
     "execution_count": 52,
     "metadata": {},
     "output_type": "execute_result"
    }
   ],
   "source": [
    "list('eat')"
   ]
  },
  {
   "cell_type": "code",
   "execution_count": 53,
   "id": "8e7a45d4-e9e4-45d0-be27-eeca6c672cc4",
   "metadata": {},
   "outputs": [],
   "source": [
    "class Solution:\n",
    "    def groupAnagrams(self, strs: List[str]) -> List[List[str]]:\n",
    "        d = defaultdict()\n",
    "        for i in strs:\n",
    "            key = Counter(list(i))\n",
    "            if key in d.keys():\n",
    "                d[key] = [i]\n",
    "            else:\n",
    "                d[key].append(i) \n",
    "        for k,v in d.items():\n",
    "            print(k,v)\n",
    "        "
   ]
  },
  {
   "cell_type": "code",
   "execution_count": 59,
   "id": "05238133-6e3e-4aa8-ba7d-39a764065feb",
   "metadata": {},
   "outputs": [],
   "source": [
    "class Solution:\n",
    "    def groupAnagrams(self, strs: List[str]) -> List[List[str]]:\n",
    "        d = defaultdict(list)\n",
    "        for i in strs:\n",
    "            Counter = [0] * 26\n",
    "            for c in list(i):\n",
    "                Counter[ord(c) - ord('a')] += 1\n",
    "            d[tuple(Counter)].append(i)\n",
    "        \n",
    "        r = []\n",
    "        for k,v in d.items():\n",
    "            r.append(v)\n",
    "        return r\n"
   ]
  },
  {
   "cell_type": "code",
   "execution_count": 60,
   "id": "aeb5e0b8-2914-4cd2-b7d0-08f74db352fb",
   "metadata": {},
   "outputs": [
    {
     "name": "stdout",
     "output_type": "stream",
     "text": [
      "[['eat', 'tea', 'ate'], ['tan', 'nat'], ['bat']]\n",
      "[['']]\n",
      "[['a']]\n"
     ]
    }
   ],
   "source": [
    "strs = [\"eat\",\"tea\",\"tan\",\"ate\",\"nat\",\"bat\"]\n",
    "print(Solution().groupAnagrams(strs))\n",
    "strs = [\"\"]\n",
    "print(Solution().groupAnagrams(strs))\n",
    "strs = [\"a\"]\n",
    "print(Solution().groupAnagrams(strs))\n"
   ]
  },
  {
   "cell_type": "code",
   "execution_count": 61,
   "id": "7d7cc075-c328-4e59-8e3a-f22184536888",
   "metadata": {},
   "outputs": [],
   "source": [
    "class Solution:\n",
    "    def topKFrequent(self, nums: List[int], k: int) -> List[int]:\n",
    "        pass"
   ]
  },
  {
   "cell_type": "code",
   "execution_count": 62,
   "id": "82b9e0af-2caa-44d1-8be2-3ec9316485be",
   "metadata": {},
   "outputs": [
    {
     "name": "stdout",
     "output_type": "stream",
     "text": [
      "None\n",
      "None\n"
     ]
    }
   ],
   "source": [
    "nums = [1,1,1,2,2,3]\n",
    "k = 2\n",
    "print(Solution().topKFrequent(nums, k))\n",
    "nums = [1]\n",
    "k = 1\n",
    "print(Solution().topKFrequent(nums, k))"
   ]
  },
  {
   "cell_type": "code",
   "execution_count": null,
   "id": "dde4d624-2b96-4092-99f5-cc5e54716a97",
   "metadata": {},
   "outputs": [],
   "source": []
  },
  {
   "cell_type": "code",
   "execution_count": null,
   "id": "930a4081-d516-4e6e-81e2-fdbad2667e26",
   "metadata": {},
   "outputs": [],
   "source": []
  },
  {
   "cell_type": "code",
   "execution_count": null,
   "id": "61f6f0d5-40d3-4d4d-96e4-9e8d17126acd",
   "metadata": {},
   "outputs": [],
   "source": []
  },
  {
   "cell_type": "code",
   "execution_count": null,
   "id": "134125c5-b396-4f30-953c-320c66126c0f",
   "metadata": {},
   "outputs": [],
   "source": []
  },
  {
   "cell_type": "code",
   "execution_count": null,
   "id": "0015e1d3-0919-4230-a21e-eef9a6e6c989",
   "metadata": {},
   "outputs": [],
   "source": []
  },
  {
   "cell_type": "code",
   "execution_count": null,
   "id": "4454da61-5933-402f-bb84-7cf8fcc9be9e",
   "metadata": {},
   "outputs": [],
   "source": []
  },
  {
   "cell_type": "code",
   "execution_count": null,
   "id": "e5e5a9d7-1887-420b-b9d3-ef3eb1d2d3e4",
   "metadata": {},
   "outputs": [],
   "source": []
  }
 ],
 "metadata": {
  "kernelspec": {
   "display_name": "Python 3 (ipykernel)",
   "language": "python",
   "name": "python3"
  },
  "language_info": {
   "codemirror_mode": {
    "name": "ipython",
    "version": 3
   },
   "file_extension": ".py",
   "mimetype": "text/x-python",
   "name": "python",
   "nbconvert_exporter": "python",
   "pygments_lexer": "ipython3",
   "version": "3.9.12"
  }
 },
 "nbformat": 4,
 "nbformat_minor": 5
}
